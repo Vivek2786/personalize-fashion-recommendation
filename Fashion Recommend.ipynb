{
 "cells": [
  {
   "cell_type": "code",
   "execution_count": 2,
   "id": "eed3e4d2-d42d-4863-816c-72d33e3cd7ef",
   "metadata": {},
   "outputs": [],
   "source": [
    "import pandas as pd\n",
    "import os\n",
    "import zipfile\n",
    "import numpy as np\n",
    "import cv2\n",
    "import pickle"
   ]
  },
  {
   "cell_type": "code",
   "execution_count": 3,
   "id": "61c7946a-74af-4074-850a-738b8f54ad7e",
   "metadata": {},
   "outputs": [],
   "source": [
    "import tensorflow as tf\n",
    "from tensorflow.keras.applications.resnet50 import ResNet50, preprocess_input\n",
    "from tensorflow.keras.preprocessing import image\n",
    "from sklearn.metrics.pairwise import cosine_similarity"
   ]
  },
  {
   "cell_type": "code",
   "execution_count": 13,
   "id": "e21d88ee-feb6-4faa-a46a-20c11331a5ee",
   "metadata": {},
   "outputs": [],
   "source": [
    "\n",
    "models_path = \"models/features.pkl\""
   ]
  },
  {
   "cell_type": "code",
   "execution_count": 14,
   "id": "7eec21e8-fdd8-40b3-9647-12fe3e25b77f",
   "metadata": {},
   "outputs": [],
   "source": [
    "# Paths to ZIP files\n",
    "zip_files = [\n",
    "    \"/mnt/data/DeepFashion-MultiModal-main.zip\",\n",
    "    \"/mnt/data/densepose-001.zip\",\n",
    "    \"/mnt/data/images-002.zip\"\n",
    "]\n",
    "\n",
    "# Extract each ZIP file\n",
    "dataset_path = \"/mnt/data/Fashion_Dataset/\"\n",
    "if not os.path.exists(dataset_path):\n",
    "    os.makedirs(dataset_path)\n",
    "\n",
    "for zip_file in zip_files:\n",
    "    if os.path.exists(zip_file):\n",
    "        with zipfile.ZipFile(zip_file, \"r\") as zip_ref:\n",
    "            zip_ref.extractall(dataset_path)\n",
    "        print(f\"✅ Extracted: {zip_file}\")\n"
   ]
  },
  {
   "cell_type": "code",
   "execution_count": null,
   "id": "ae708d1e-2c72-4594-b3d5-6b4c738b6570",
   "metadata": {},
   "outputs": [],
   "source": [
    "if not os.path.exists(dataset_path):\n",
    "    with zipfile.ZipFile(dataset_zip, \"r\") as zip_ref:\n",
    "        zip_ref.extractall(dataset_path)\n",
    "    print(\"✅ Dataset extracted successfully!\")\n",
    "\n",
    "# Ensure model directory exists\n",
    "if not os.path.exists(models_path):\n",
    "    os.makedirs(models_path)\n",
    "\n",
    "# Load Pretrained Model\n",
    "model = ResNet50(weights=\"imagenet\", include_top=False, pooling=\"avg\")\n",
    "\n",
    "# Get Image Paths\n",
    "# Image folders after extraction\n",
    "image_folders = [\n",
    "    os.path.join(dataset_path, \"DeepFashion-MultiModal/img\"),\n",
    "    os.path.join(dataset_path, \"densepose-001\"),\n",
    "    os.path.join(dataset_path, \"images-002\")\n",
    "]\n",
    "\n",
    "# Collect all images\n",
    "image_files = []\n",
    "for folder in image_folders:\n",
    "    if os.path.exists(folder):\n",
    "        image_files += [os.path.join(folder, img) for img in os.listdir(folder) if img.endswith(\".jpg\")]\n",
    "\n",
    "print(f\"✅ Total images found: {len(image_files)}\")\n",
    "\n",
    "\n",
    "# Feature Extraction\n",
    "def extract_features(img_path):\n",
    "    img = image.load_img(img_path, target_size=(224, 224))\n",
    "    img_array = image.img_to_array(img)\n",
    "    img_array = np.expand_dims(img_array, axis=0)\n",
    "    img_array = preprocess_input(img_array)\n",
    "    features = model.predict(img_array)\n",
    "    return features.flatten()\n",
    "\n",
    "# Extract and Save Features\n",
    "feature_list = np.array([extract_features(img) for img in image_files])\n",
    "with open(os.path.join(models_path, \"features.pkl\"), \"wb\") as f:\n",
    "    pickle.dump((image_files, feature_list), f)\n",
    "print(\"✅ Feature extraction completed!\")\n",
    "\n",
    "# Capture Image from Webcam\n",
    "def capture_image():\n",
    "    cam = cv2.VideoCapture(0)\n",
    "    cv2.namedWindow(\"Capture Fashion Image\")\n",
    "    while True:\n",
    "        ret, frame = cam.read()\n",
    "        if not ret:\n",
    "            print(\"Failed to grab frame\")\n",
    "            break\n",
    "        cv2.imshow(\"Capture Fashion Image\", frame)\n",
    "        k = cv2.waitKey(1)\n",
    "        if k % 256 == 27:  # ESC to exit\n",
    "            print(\"Closing camera...\")\n",
    "            break\n",
    "        elif k % 256 == 32:  # SPACE to capture\n",
    "            img_name = \"captured_image.jpg\"\n",
    "            cv2.imwrite(img_name, frame)\n",
    "            print(f\"Image saved as {img_name}\")\n",
    "            break\n",
    "    cam.release()\n",
    "    cv2.destroyAllWindows()\n",
    "\n",
    "# Find Similar Outfit\n",
    "def recommend_fashion():\n",
    "    with open(os.path.join(models_path, \"features.pkl\"), \"rb\") as f:\n",
    "        image_files, feature_list = pickle.load(f)\n",
    "    captured_features = extract_features(\"captured_image.jpg\")\n",
    "    similarities = cosine_similarity([captured_features], feature_list)\n",
    "    best_match_index = np.argmax(similarities)\n",
    "    best_match = image_files[best_match_index]\n",
    "    print(f\"Recommended Outfit: {best_match}\")\n",
    "    img_recommend = cv2.imread(best_match)\n",
    "    cv2.imshow(\"Recommended Outfit\", img_recommend)\n",
    "    cv2.waitKey(0)\n",
    "    cv2.destroyAllWindows()\n",
    "\n",
    "# Run the system\n",
    "if __name__ == \"__main__\":\n",
    "    capture_image()\n",
    "    recommend_fashion()\n"
   ]
  },
  {
   "cell_type": "code",
   "execution_count": 11,
   "id": "974f799f-43de-491a-968f-c8cbd233e2aa",
   "metadata": {},
   "outputs": [
    {
     "name": "stdout",
     "output_type": "stream",
     "text": [
      "False\n"
     ]
    }
   ],
   "source": [
    "import os\n",
    "print(os.path.exists(\"/mnt/data/DeepFashion-MultiModal-main.zip\"))\n"
   ]
  },
  {
   "cell_type": "code",
   "execution_count": null,
   "id": "0c04287f-b46c-403a-a31e-839ab6d28676",
   "metadata": {},
   "outputs": [],
   "source": []
  }
 ],
 "metadata": {
  "kernelspec": {
   "display_name": "Python 3 (ipykernel)",
   "language": "python",
   "name": "python3"
  },
  "language_info": {
   "codemirror_mode": {
    "name": "ipython",
    "version": 3
   },
   "file_extension": ".py",
   "mimetype": "text/x-python",
   "name": "python",
   "nbconvert_exporter": "python",
   "pygments_lexer": "ipython3",
   "version": "3.11.7"
  }
 },
 "nbformat": 4,
 "nbformat_minor": 5
}
